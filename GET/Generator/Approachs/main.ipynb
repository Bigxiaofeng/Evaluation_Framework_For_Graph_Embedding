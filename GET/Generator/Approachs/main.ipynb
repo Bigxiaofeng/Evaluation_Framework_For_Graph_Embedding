{
 "cells": [
  {
   "cell_type": "code",
   "execution_count": null,
   "metadata": {
    "collapsed": false
   },
   "outputs": [
    {
     "name": "stderr",
     "output_type": "stream",
     "text": [
      "C:\\Users\\asus\\Anaconda3\\lib\\site-packages\\gensim\\utils.py:860: UserWarning: detected Windows; aliasing chunkize to chunkize_serial\n",
      "  warnings.warn(\"detected Windows; aliasing chunkize to chunkize_serial\")\n",
      "Using TensorFlow backend.\n"
     ]
    }
   ],
   "source": [
    "from collections import namedtuple\n",
    "from gensim.models.doc2vec import TaggedDocument\n",
    "\n",
    "import numpy as np \n",
    "import pandas as pd\n",
    "\n",
    "  \n",
    "edgelist = []\n",
    "Label = []\n",
    "Text_inf = []\n",
    "karate = {}\n",
    "\n",
    "cora_content = {}\n",
    "\n",
    "arxiv = {}\n",
    "    \n",
    "dataset  = input( \"Select the dataset :\")\n",
    "    \n",
    "    # Karate Dataset \n",
    "if ( dataset == \"karate.edgelist\") : \n",
    "    f = open('karate.edgelist', 'r') \n",
    "    for line in  f.readlines():\n",
    "            line = line.split()\n",
    "            edgelist.append([float(x) for x in line[1:]])         \n",
    "            karate[\"Edgelist\"] = edgelist \n",
    "            karate[\"Label\"] = Label\n",
    "            karate[\"Text_Information\"] = Text_inf\n",
    "            \n",
    "            \n",
    "            \n",
    "            \n",
    "            \n",
    "    # Cora  Dataset        \n",
    "if ( dataset == \"cora.content\") : \n",
    "    f = open('cora.content', 'r')         \n",
    "\n",
    "    Doc_ID =[]\n",
    "    docs = []\n",
    "    label={}\n",
    "    y =[]    \n",
    "    for line in f.readlines():\n",
    "            line = line.split()\n",
    "            label[line[0]] = line[-1]\n",
    "            words=np.array(line[1:-1])\n",
    "            tags = line[0]\n",
    "            occ = np.where(words == '1')\n",
    "            occ = [str(x) for x in occ[0]]\n",
    "            docs.append(TaggedDocument(occ, [tags]))\n",
    "            Doc_ID.append(line[0])       \n",
    "            cora_content[\"Edgelist\"] = edgelist \n",
    "            cora_content[\"Label\"] = label\n",
    "            cora_content[\"Text_Information\"] = Text_inf\n",
    "    \n",
    "\n",
    "    \n",
    "    \n",
    "    # Karate Dataset \n",
    "if ( dataset == \"arxiv.edgelist\") : \n",
    "    f = open('arxiv.edgelist', 'r') \n",
    "    for line in  f.readlines():\n",
    "            line = line.split()\n",
    "            edgelist.append([float(x) for x in line[1:]])         \n",
    "            arxiv[\"Edgelist\"] = edgelist \n",
    "            arxiv[\"Label\"] = Label\n",
    "            arxiv[\"Text_Information\"] = Text_inf\n",
    "        \n",
    "if (dataset == \"arxiv.edgelist\" or \"karate.edgelist\" ) : \n",
    "\n",
    "    print(\"According to  your Dataset characteristics, you must select from these graph embeddings approaches\")\n",
    "    print(\"001) Node2vec\")\n",
    "    print(\"002) DeepWalk\")\n",
    "    print(\"003) LINE\")\n",
    "    print(\"004) DNGR\")\n",
    "\n",
    "elif ( dataset == \"cora.content\") :\n",
    "\n",
    "    print(\"According to  your Dataset characteristics, you must select from these graph embeddings approaches\")\n",
    "    print(\"005) Doc2vec\")\n",
    "    print(\"006) Paper2vec\")\n",
    "    \n",
    "    \n",
    "\n",
    "select = input(\"Enter option: \")\n",
    "# Node2vec \n",
    "if select == \"1\" :\n",
    "    import approach1\n",
    "    emb = approach1.run()\n",
    "# DeepWalk Approach  \n",
    "elif select == \"2\" :\n",
    "    import approach2\n",
    "    emb = approach2.run()\n",
    "# LINE \n",
    "elif select == \"3\" :    \n",
    "    import approach3\n",
    "    emb = approach3.run()\n",
    "# DNGR\n",
    "elif select == \"4\" :\n",
    "    import approach4\n",
    "    emb = approach4.run()\n",
    "# Doc2vec\n",
    "elif select == \"5\" : \n",
    "    import approach5 \n",
    "    emb = approach5.run()\n",
    "# Paper2vec\n",
    "elif select == \"6\" : \n",
    "    import approach6\n",
    "    emb = approach6.run()\n",
    "# Glove\n",
    "print (\"your dataset embeddings generation has finished  \")   \n",
    "  "
   ]
  },
  {
   "cell_type": "code",
   "execution_count": null,
   "metadata": {
    "collapsed": false
   },
   "outputs": [],
   "source": []
  },
  {
   "cell_type": "code",
   "execution_count": null,
   "metadata": {
    "collapsed": false
   },
   "outputs": [],
   "source": []
  },
  {
   "cell_type": "code",
   "execution_count": null,
   "metadata": {
    "collapsed": false
   },
   "outputs": [],
   "source": []
  },
  {
   "cell_type": "code",
   "execution_count": null,
   "metadata": {
    "collapsed": true
   },
   "outputs": [],
   "source": []
  },
  {
   "cell_type": "code",
   "execution_count": null,
   "metadata": {
    "collapsed": true
   },
   "outputs": [],
   "source": []
  }
 ],
 "metadata": {
  "kernelspec": {
   "display_name": "Python 3",
   "language": "python",
   "name": "python3"
  },
  "language_info": {
   "codemirror_mode": {
    "name": "ipython",
    "version": 3
   },
   "file_extension": ".py",
   "mimetype": "text/x-python",
   "name": "python",
   "nbconvert_exporter": "python",
   "pygments_lexer": "ipython3",
   "version": "3.6.0"
  }
 },
 "nbformat": 4,
 "nbformat_minor": 2
}
